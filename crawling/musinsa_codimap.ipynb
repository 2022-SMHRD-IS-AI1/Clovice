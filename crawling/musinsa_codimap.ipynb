{
 "cells": [
  {
   "cell_type": "code",
   "execution_count": 1,
   "metadata": {},
   "outputs": [],
   "source": [
    "from selenium import webdriver as wd\n",
    "from selenium.webdriver.common.by import By\n",
    "from selenium.webdriver.common.keys import Keys\n",
    "from urllib import request\n",
    "import time\n",
    "import os\n",
    "import pandas as pd"
   ]
  },
  {
   "cell_type": "code",
   "execution_count": null,
   "metadata": {},
   "outputs": [],
   "source": [
    "driver = wd.Chrome()\n",
    "try:\n",
    "    os.mkdir(\"./codis\")\n",
    "except:\n",
    "    pass\n",
    "max = 21710\n",
    "for _ in range(10000, 1, -1):\n",
    "    driver.get(\"https://image.msscdn.net/images/codimap/detail/{}/detail_{}_1_500.jpg?202302282302\".format(_, _))\n",
    "    request.urlretrieve(\"https://image.msscdn.net/images/codimap/detail/{}/detail_{}_1_500.jpg?202302282302\".format(_, _))\n",
    "\n"
   ]
  }
 ],
 "metadata": {
  "kernelspec": {
   "display_name": "Python 3",
   "language": "python",
   "name": "python3"
  },
  "language_info": {
   "codemirror_mode": {
    "name": "ipython",
    "version": 3
   },
   "file_extension": ".py",
   "mimetype": "text/x-python",
   "name": "python",
   "nbconvert_exporter": "python",
   "pygments_lexer": "ipython3",
   "version": "3.11.1"
  },
  "orig_nbformat": 4,
  "vscode": {
   "interpreter": {
    "hash": "8d29ec00ae0add0190cce9c6bb44028ed64b4cb4a58b5f5c12e34c6897e75494"
   }
  }
 },
 "nbformat": 4,
 "nbformat_minor": 2
}

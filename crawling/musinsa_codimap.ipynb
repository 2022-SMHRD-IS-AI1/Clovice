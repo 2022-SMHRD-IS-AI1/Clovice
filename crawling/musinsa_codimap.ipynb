{
 "cells": [
  {
   "attachments": {},
   "cell_type": "markdown",
   "metadata": {},
   "source": [
    "# 주의사항 : 아직 미완성된 크롤링 코드임\n",
    "- 절대 실행하지마\n",
    "- 절대 실행하지마\n",
    "- 절대 실행하지마\n",
    "- 절대 실행하지마\n",
    "- 절대 실행하지마\n",
    "- 절대 실행하지마\n",
    "- 절대 실행하지마\n",
    "- 절대 실행하지마\n",
    "- 절대 실행하지마\n",
    "- 절대 실행하지마\n",
    "- 절대 실행하지마\n",
    "- 절대 실행하지마\n",
    "- 절대 실행하지마\n",
    "- 절대 실행하지마\n",
    "- 절대 실행하지마\n",
    "- 절대 실행하지마\n",
    "- 절대 실행하지마\n",
    "- 절대 실행하지마"
   ]
  },
  {
   "cell_type": "code",
   "execution_count": null,
   "metadata": {},
   "outputs": [],
   "source": [
    "from selenium import webdriver as wd\n",
    "from selenium.webdriver.common.by import By\n",
    "from selenium.webdriver.common.keys import Keys\n",
    "from urllib import request\n",
    "import time\n",
    "import os\n",
    "import pandas as pd"
   ]
  },
  {
   "cell_type": "code",
   "execution_count": null,
   "metadata": {},
   "outputs": [],
   "source": [
    "driver = wd.Chrome()\n",
    "\n",
    "codi_id = []\n",
    "codi_set = []\n",
    "\n",
    "try:\n",
    "    os.mkdir(\"./codis\")\n",
    "except:\n",
    "    pass\n",
    "\n",
    "driver.get(\"https://www.musinsa.com/app/codimap/lists\")\n",
    "total_page = int(driver.find_element(By.CSS_SELECTOR, value=\"body > div.wrap > div.right_area > form > div.right_contents.hover_box > div > div.thumbType-box.box > span.pagingNumber > span.totalPagingNum\").text.strip())\n",
    "for page in range(1, total_page + 1):\n",
    "    driver.get(\"https://www.musinsa.com/app/codimap/lists?style_type=&tag_no=&brand=&display_cnt=60&list_kind=big&sort=date&page={}\".format(page))\n",
    "    codi_list = driver.find_elements(By.CSS_SELECTOR, value=\"body > div.wrap > div.right_area > form > div.right_contents.hover_box > div > ul > li > div.style-list-information > a > strong\")\n",
    "    print(\"현재 페이지 : {}\\n페이지의 코디 개수 : {}\".format(page, len(codi_list)))\n",
    "    \n",
    "    for codi in codi_list:\n",
    "        codi_num = codi.get_attribute(\"onclick\").replace(\"goView('\",\"\").replace(\"');\",\"\")\n",
    "        driver.execute_script(\"window.open('');\")\n",
    "        driver.switch_to.window(driver.window_handles[-1])\n",
    "        \n",
    "        driver.get(\"https://www.musinsa.com/app/codimap/views/{}?style_type=&tag_no=&brand=&display_cnt=60&list_kind=big&sort=date&page={}\".format(codi_num, page))\n",
    "        \n",
    "    \n",
    "        img = driver.find_element(By.CSS_SELECTOR, value=\"#style_info > div.codimap-cont > img\")\n",
    "        print(img.get_attribute(\"src\").replace(\" \", \"_\"))\n",
    "        request.urlretrieve(img.get_attribute(\"src\"), \"./codis/codi_{}.jpg\".format(codi_num))\n",
    "        \n",
    "        try:\n",
    "            codi_id.append(codi_num)\n",
    "        except:\n",
    "            pass\n",
    "        \n",
    "        try:\n",
    "            c_set = [_.get_attribute(\"data-no\") for _ in driver.find_elements(By.CSS_SELECTOR, value=\"#interest_Y\")]\n",
    "            codi_set.append(\"_\".join(c for c in c_set))\n",
    "        except:\n",
    "            codi_set.append(\"-\")\n",
    "        \n",
    "        driver.close()\n",
    "        driver.switch_to.window(driver.window_handles[0])\n",
    "driver.close()\n",
    "\n"
   ]
  }
 ],
 "metadata": {
  "kernelspec": {
   "display_name": "Python 3",
   "language": "python",
   "name": "python3"
  },
  "language_info": {
   "codemirror_mode": {
    "name": "ipython",
    "version": 3
   },
   "file_extension": ".py",
   "mimetype": "text/x-python",
   "name": "python",
   "nbconvert_exporter": "python",
   "pygments_lexer": "ipython3",
   "version": "3.11.1"
  },
  "orig_nbformat": 4,
  "vscode": {
   "interpreter": {
    "hash": "8d29ec00ae0add0190cce9c6bb44028ed64b4cb4a58b5f5c12e34c6897e75494"
   }
  }
 },
 "nbformat": 4,
 "nbformat_minor": 2
}

{
 "cells": [
  {
   "attachments": {},
   "cell_type": "markdown",
   "metadata": {},
   "source": [
    "# 크롤링 분할\n",
    "### 상의\n",
    "- 맨투맨/스웨트셔츠 : 001005\n",
    "- 니트/스웨터 : 001006\n",
    "- 후드 티셔츠 : 001004\n",
    "- 긴소매 티셔츠 : 001010\n",
    "- 반소매 티셔츠 : 001001\n",
    "- 셔츠/블라우스 : 001002\n",
    "- 피케/카라 티셔츠 : 001003\n",
    "- 기타 상의 : 001008\n",
    "- 민소매 티셔츠 : 001011\n",
    "### 아우터\n",
    "- 트러커 재킷 : 002017\n",
    "- 나일론/코치 재킷 : 002006\n",
    "- 블루종/MA-1 : 002001\n",
    "- 사파리/헌팅 재킷 : 002014\n",
    "- 스타디움 재킷 : 002004\n",
    "- 기타 아우터 : 002015\n",
    "- 아노락 재킷 : 002019\n",
    "- 레더/라이더스 재킷 : 002002\n",
    "- 환절기 코트 : 002008\n",
    "- 슈트/블레이저 재킷 : 002003\n",
    "- 숏패딩/숏헤비 아우터 : 002012\n",
    "- 플리스/뽀글이 : 002023\n",
    "- 겨울 싱글 코트 : 002007\n",
    "- 겨울 기타 코트 : 002009\n",
    "- 겨울 더블 코트 : 002024\n",
    "- 트레이닝 재킷 : 002018\n",
    "- 카디건 : 002020\n",
    "- 후드 집업 : 002022\n",
    "- 롱패딩/롱헤비 아우터 : 002013\n",
    "- 베스트 : 002021\n",
    "- 패딩 베스트 : 002016\n",
    "- 무스탕/퍼 : 002025\n",
    "### 바지\n",
    "- 코튼 팬츠 : 003007\n",
    "- 트레이닝/조거 팬츠 : 003004\n",
    "- 슈트 팬츠/슬랙스 : 003008\n",
    "- 데님 팬츠 : 003002\n",
    "- 기타 바지 : 003006\n",
    "- 점프 슈트/오버올 : 003010\n",
    "- 숏 팬츠 : 003009\n",
    "- 레깅스 : 003005\n",
    "### 원피스\n",
    "- 맥시 원피스 : 020008\n",
    "- 미디 원피스 : 020007\n",
    "- 미니 원피스 : 020006\n",
    "### 스커트\n",
    "- 미니스커트 : 022001\n",
    "- 미디스커트 : 022002\n",
    "- 롱스커트 : 022003\n",
    "### 스니커즈\n",
    "- 패션스니커즈화 : 018003\n",
    "- 스포츠 스니커즈 : 018001\n",
    "- 캔버스/단화 : 018002\n",
    "- 기타 스니커즈 : 018004\n",
    "### 신발\n",
    "- 로퍼 : 005015\n",
    "- 기타 신발 : 005006\n",
    "- 플랫 슈즈 : 005017\n",
    "- 힐/펌프스 : 005012\n",
    "- 모카신/보트 슈즈 : 005016\n",
    "- 블로퍼 : 005019\n",
    "- 구두 : 005014\n",
    "- 부츠 : 005011\n",
    "- 슬리퍼 : 005018\n",
    "- 샌들 : 005004\n",
    "- 신발 용품 : 005005"
   ]
  },
  {
   "cell_type": "code",
   "execution_count": null,
   "metadata": {},
   "outputs": [],
   "source": [
    "# 여기서 에러가 나면 pip으로 selenium을 하거나 라이브러리 업그레이드하기\n",
    "from selenium import webdriver as wd\n",
    "from selenium.webdriver.common.by import By\n",
    "from selenium.webdriver.common.keys import Keys\n",
    "from urllib import request\n",
    "import time\n",
    "import os\n",
    "import pandas as pd"
   ]
  },
  {
   "attachments": {},
   "cell_type": "markdown",
   "metadata": {},
   "source": [
    "### 주의사항\n",
    "- 코드 수정하지말고 밑에 본인 주석만 해제하여 전체 실행하기\n",
    "- 코드 실행 이후 크롤링 실행 중인 크롬 창 위에 절대 마우스 올리지 말기(이미지 다운이 안됨)"
   ]
  },
  {
   "cell_type": "code",
   "execution_count": null,
   "metadata": {},
   "outputs": [],
   "source": [
    "category = []\n",
    "\n",
    "# 서연\n",
    "# category = [\"001005\", \"001006\", \"001004\", \"001010\", \"001001\", \"001002\",\n",
    "#             \"001003\", \"001008\", \"001011\", \"002017\", \"002006\", \"002001\"]\n",
    "\n",
    "# 세빈\n",
    "# category = [\"002014\", \"002004\", \"002015\", \"002019\", \"002002\", \"002008\",\n",
    "#             \"002003\", \"002012\", \"002023\", \"002007\", \"002009\", \"002024\"]\n",
    "\n",
    "# 영미\n",
    "# category = [\"002018\", \"002020\", \"002022\", \"002013\", \"002021\", \"002016\",\n",
    "#             \"002025\", \"003007\", \"003004\", \"003008\", \"003002\", \"003006\"]\n",
    "\n",
    "# 건우\n",
    "# category = [\"003010\", \"003009\", \"003005\", \"020008\", \"020007\", \"020006\",\n",
    "#             \"022001\", \"022002\", \"022003\", \"018003\", \"018001\", \"018002\"]\n",
    "\n",
    "# 명기\n",
    "# category = [\"018004\", \"005015\", \"005006\", \"005017\", \"005012\", \"005016\",\n",
    "#             \"005019\", \"005014\", \"005011\", \"005018\", \"005004\", \"005005\"]\n"
   ]
  },
  {
   "cell_type": "code",
   "execution_count": null,
   "metadata": {},
   "outputs": [],
   "source": [
    "\n",
    "\n",
    "try:\n",
    "    os.mkdir(\"./imgs\")\n",
    "except:\n",
    "    pass\n",
    "driver = wd.Chrome()\n",
    "driver.get(url=\"https://www.musinsa.com/app/\")\n",
    "for cat in category:\n",
    "    driver.get(url=\"https://www.musinsa.com/categories/item/{}\".format(cat))\n",
    "    total_page = int(driver.find_element(By.CSS_SELECTOR, value=\"#goods_list > div.boxed-list-wrapper > div.thumbType_box.box > span.pagingNumber > span.totalPagingNum\").text)\n",
    "    if total_page > 400:\n",
    "        total_page = 400\n",
    "    for page in range(1, total_page + 1):\n",
    "        driver.get(\"https://www.musinsa.com/categories/item/{}?d_cat_cd={}&brand=&list_kind=small&sort=pop_category&sub_sort=&page={}&display_cnt=90&group_sale=&exclusive_yn=&sale_goods=&timesale_yn=&ex_soldout=&kids=&color=&price1=&price2=&shoeSizeOption=&tags=&campaign_id=&includeKeywords=&measure=\".format(cat, cat, page))\n",
    "        it_list = driver.find_elements(By.CSS_SELECTOR, value=\"#searchList > li\")\n",
    "        print(\"현재 페이지 : {}\\n페이지의 상품 개수 : {}\".format(page, len(it_list)))\n",
    "        for it in it_list:\n",
    "            data_no = it.get_attribute(\"data-no\")\n",
    "            driver.execute_script(\"window.open('');\")\n",
    "            driver.switch_to.window(driver.window_handles[-1])\n",
    "            driver.get(\"https://www.musinsa.com/app/goods/{}\".format(data_no))\n",
    "            thumb_list = driver.find_elements(By.CSS_SELECTOR, value=\"#detail_thumb > ul > li\")\n",
    "            for idx in range(len(thumb_list)):\n",
    "                 thumb_list[idx].click()\n",
    "                 img = driver.find_element(By.CSS_SELECTOR, value=\"#bigimg\")\n",
    "                 request.urlretrieve(img.get_attribute(\"src\"), \"./imgs/{}_{}.jpg\".format(data_no, idx))\n",
    "            driver.close()\n",
    "            driver.switch_to.window(driver.window_handles[0])\n",
    "driver.close()\n",
    "\n"
   ]
  },
  {
   "cell_type": "code",
   "execution_count": null,
   "metadata": {},
   "outputs": [],
   "source": []
  },
  {
   "cell_type": "code",
   "execution_count": null,
   "metadata": {},
   "outputs": [],
   "source": []
  },
  {
   "cell_type": "code",
   "execution_count": null,
   "metadata": {},
   "outputs": [],
   "source": []
  },
  {
   "cell_type": "code",
   "execution_count": null,
   "metadata": {},
   "outputs": [],
   "source": []
  },
  {
   "cell_type": "code",
   "execution_count": null,
   "metadata": {},
   "outputs": [],
   "source": []
  },
  {
   "cell_type": "code",
   "execution_count": null,
   "metadata": {},
   "outputs": [],
   "source": []
  },
  {
   "cell_type": "code",
   "execution_count": null,
   "metadata": {},
   "outputs": [],
   "source": []
  },
  {
   "cell_type": "code",
   "execution_count": null,
   "metadata": {},
   "outputs": [],
   "source": []
  },
  {
   "cell_type": "code",
   "execution_count": null,
   "metadata": {},
   "outputs": [],
   "source": []
  },
  {
   "cell_type": "code",
   "execution_count": null,
   "metadata": {},
   "outputs": [],
   "source": []
  },
  {
   "cell_type": "code",
   "execution_count": null,
   "metadata": {},
   "outputs": [],
   "source": []
  },
  {
   "cell_type": "code",
   "execution_count": null,
   "metadata": {},
   "outputs": [],
   "source": []
  },
  {
   "cell_type": "code",
   "execution_count": null,
   "metadata": {},
   "outputs": [],
   "source": []
  },
  {
   "cell_type": "code",
   "execution_count": null,
   "metadata": {},
   "outputs": [],
   "source": []
  }
 ],
 "metadata": {
  "kernelspec": {
   "display_name": "Python 3",
   "language": "python",
   "name": "python3"
  },
  "language_info": {
   "codemirror_mode": {
    "name": "ipython",
    "version": 3
   },
   "file_extension": ".py",
   "mimetype": "text/x-python",
   "name": "python",
   "nbconvert_exporter": "python",
   "pygments_lexer": "ipython3",
   "version": "3.11.1"
  },
  "orig_nbformat": 4,
  "vscode": {
   "interpreter": {
    "hash": "8d29ec00ae0add0190cce9c6bb44028ed64b4cb4a58b5f5c12e34c6897e75494"
   }
  }
 },
 "nbformat": 4,
 "nbformat_minor": 2
}
